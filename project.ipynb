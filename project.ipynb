{
 "cells": [
  {
   "cell_type": "code",
   "execution_count": null,
   "id": "dc88c4af",
   "metadata": {},
   "outputs": [],
   "source": [
    "import os\n",
    "import pydicom\n",
    "import matplotlib.pyplot as plt\n",
    "import pandas as pd\n",
    "import numpy as np\n",
    "from skimage.transform import resize\n",
    "from sklearn.model_selection import train_test_split\n",
    "from sklearn.svm import SVC\n",
    "from sklearn.metrics import accuracy_score\n",
    "import torch\n",
    "from torchvision.transforms import Resize"
   ]
  },
  {
   "cell_type": "code",
   "execution_count": null,
   "id": "ab2e0689",
   "metadata": {},
   "outputs": [],
   "source": [
    "# Check if CUDA is available and set the device accordingly\n",
    "# used to run on gpu, not sure if it works with onDemand\n",
    "# but runs locally, probably best to leave commented out\n",
    "\n",
    "# device = torch.device('cuda' if torch.cuda.is_available() else 'cpu')\n",
    "\n",
    "# Resizing to 128 x 128 for all mammograms\n",
    "resize_transform = Resize((128, 128))\n",
    "\n",
    "images = []\n",
    "\n",
    "def resizeAndLabelDCM(rootFolder) -> None:\n",
    "    # Iterate through each folder in the root folder\n",
    "    for folderName in os.listdir(rootFolder):\n",
    "        folderPath = os.path.join(rootFolder, folderName)\n",
    "\n",
    "        # Check if the current item is a folder\n",
    "        if os.path.isdir(folderPath):\n",
    "            print(f\"Processing folder: {folderName}\")\n",
    "            # Call the function recursively to process subfolders\n",
    "            resizeAndLabelDCM(folderPath)\n",
    "\n",
    "            for filename in os.listdir(folderPath):\n",
    "                if filename.endswith(\".dcm\"):\n",
    "                    ds = pydicom.dcmread(os.path.join(folderPath, filename))\n",
    "                    image = ds.pixel_array.astype(float)\n",
    "                    \n",
    "                    # Convert the image to a PyTorch tensor\n",
    "                    # image_tensor = torch.tensor(image).unsqueeze(0).to(device)\n",
    "                    image_tensor = torch.tensor(image).unsqueeze(0)\n",
    "                    \n",
    "                    # Resize the image\n",
    "                    image_tensor = resize_transform(image_tensor)\n",
    "                    \n",
    "                    # Flatten to create feature vector\n",
    "                    images.append(image_tensor.view(-1).cpu().numpy())\n",
    "\n",
    "                    # To view the image, uncomment next line\n",
    "                    # plt.imshow(image, cmap='gray'); plt.title(f\"Patient ID: {folderName}\"); plt.show()"
   ]
  },
  {
   "cell_type": "code",
   "execution_count": null,
   "id": "c77b2e49",
   "metadata": {},
   "outputs": [],
   "source": [
    "# Specify the root folder, that may contain subfolders, with DICOM files\n",
    "rootFolderPath = \"path/to/train_images\"\n",
    "\n",
    "resizeAndLabelDCM(rootFolderPath)"
   ]
  },
  {
   "cell_type": "code",
   "execution_count": null,
   "id": "0e2f0de4",
   "metadata": {},
   "outputs": [],
   "source": [
    "xTrain = np.array(images)\n",
    "\n",
    "# y is the label -> cancer\n",
    "data = pd.read_csv(\"path/to/train_images\")\n",
    "yTrain = np.array(data.loc[:, \"cancer\"])\n",
    "\n",
    "print(f\"X-shape: {xTrain.shape}, y-shape: {yTrain.shape}\")"
   ]
  },
  {
   "cell_type": "code",
   "execution_count": null,
   "id": "225f5719",
   "metadata": {},
   "outputs": [],
   "source": [
    "# Train SVM model\n",
    "svm = SVC(kernel='linear')\n",
    "svm.fit(xTrain, yTrain)"
   ]
  },
  {
   "cell_type": "code",
   "execution_count": null,
   "id": "233d0876",
   "metadata": {},
   "outputs": [],
   "source": [
    "xTest = pd.read_csv(\"path/to/train_images\")\n",
    "xTest = np.array(xTest)"
   ]
  },
  {
   "cell_type": "code",
   "execution_count": null,
   "id": "fbc5875a",
   "metadata": {},
   "outputs": [],
   "source": [
    "# Predict labels for test set\n",
    "yPred = svm.predict(xTest)"
   ]
  },
  {
   "cell_type": "code",
   "execution_count": null,
   "id": "eb2f53b3",
   "metadata": {},
   "outputs": [],
   "source": [
    "# Evaluate model\n",
    "accuracy = accuracy_score(yTest, yPred)\n",
    "print(f\"Accuracy: {accuracy}\")"
   ]
  }
 ],
 "metadata": {
  "kernelspec": {
   "display_name": "Python 3 (ipykernel)",
   "language": "python",
   "name": "python3"
  },
  "language_info": {
   "codemirror_mode": {
    "name": "ipython",
    "version": 3
   },
   "file_extension": ".py",
   "mimetype": "text/x-python",
   "name": "python",
   "nbconvert_exporter": "python",
   "pygments_lexer": "ipython3",
   "version": "3.10.10"
  }
 },
 "nbformat": 4,
 "nbformat_minor": 5
}
