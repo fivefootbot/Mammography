{
 "cells": [
  {
   "cell_type": "code",
   "execution_count": 2,
   "metadata": {},
   "outputs": [],
   "source": [
    "import os\n",
    "import math\n",
    "import keras\n",
    "import pydicom\n",
    "import numpy as np\n",
    "import pandas as pd\n",
    "import tensorflow as tf\n",
    "import matplotlib.pyplot as plt\n",
    "from tensorflow.keras import Sequential\n",
    "from tensorflow.keras.utils import Sequence\n",
    "from sklearn.preprocessing import minmax_scale\n",
    "from tensorflow.keras.optimizers import Adam\n",
    "from tensorflow.keras.layers import (Input, \n",
    "                                     Conv2D,\n",
    "                                     GlobalMaxPooling2D,\n",
    "                                     MaxPooling2D,\n",
    "                                     Dropout, \n",
    "                                     Dense)"
   ]
  },
  {
   "cell_type": "markdown",
   "metadata": {},
   "source": [
    "https://www.tensorflow.org/api_docs/python/tf/keras/utils/PyDataset"
   ]
  },
  {
   "cell_type": "markdown",
   "metadata": {},
   "source": [
    "<font size=4.4>\n",
    "\n",
    "The magic of the class is the __getitem__ dunder method, which \"creates\" the new batches of data for the model.\n",
    "In reality, it is not creating but rather grabbing the data from the data that was passed to the class and performing \n",
    "some manipulations on it. Such as normalizing the pixel values between 0-1, making sure all images are in the same \n",
    "format, and resizes the images to a specific size using nearest-neighbor interpolation, and allowing a new\n",
    "dimension for the color channel to be specified in the image.\n",
    "\n",
    "</font>"
   ]
  },
  {
   "cell_type": "code",
   "execution_count": 3,
   "metadata": {},
   "outputs": [],
   "source": [
    "imgShape = (256, 256, 1)\n",
    "folder = '/mnt/c/Users/vange/OneDrive - Tennessee Tech University/Desktop/Fall 23, Spring 24/4260/mammography'\n",
    "\n",
    "\n",
    "class BatchCreator(Sequence):\n",
    "\n",
    "    def __init__(self, data, dataType, batchSize, workers = 8, **kwargs):\n",
    "        super().__init__(**kwargs)\n",
    "        self.data = data\n",
    "        self.batchSize = batchSize\n",
    "        \n",
    "        if dataType == 1:\n",
    "            self.dataType = 'train'\n",
    "            \n",
    "        else:\n",
    "            self.dataType = 'test'\n",
    "\n",
    "\n",
    "    # returns the number of batches in the dataset \n",
    "    def __len__(self):\n",
    "        return math.ceil(len(self.data) / self.batchSize)\n",
    "\n",
    "    def __getitem__(self, index):\n",
    "        # calculates the beginning and end indices for the batch based on the batch size and the index\n",
    "        start = index * self.batchSize\n",
    "        end = min(start + self.batchSize, len(self.data))\n",
    "        \n",
    "        # initializes arrays to hold the input images and labels for the batch\n",
    "        inputImages = np.zeros((self.batchSize, ) + imgShape)        \n",
    "        labels = np.zeros((self.batchSize, 1))\n",
    "\n",
    "        # iterates over the indices of the current batch, stops if the index exceeds the length of the dataset\n",
    "        for i, idx in enumerate(range(start, end)):          \n",
    "            if index >= len(self.data):\n",
    "                break\n",
    "                \n",
    "            patientID = self.data.iloc[idx]['patient_id']\n",
    "            imgID = self.data.iloc[idx]['image_id']\n",
    "            \n",
    "            fileName = os.path.join(folder, f\"{self.dataType}_images\", str(patientID), f\"{imgID}.dcm\")\n",
    "            image = pydicom.dcmread(fileName)\n",
    "            images = image.pixel_array\n",
    "\n",
    "            # normalizing pixel values [0, 1]\n",
    "            images = minmax_scale(images)\n",
    "\n",
    "            # Many images are in MONOCHROME1 format, we however need all in MONOCHROME2 format since 0 is black instead\n",
    "            # of white like in MONOCRHOME1. This ensures that our dark areas in the images are actually dark and that\n",
    "            # the bright areas are actually bright, in its original form, the opposite is true.\n",
    "            if image.PhotometricInterpretation == \"MONOCHROME1\":\n",
    "                images = 1 - images\n",
    "\n",
    "            # resizes the image using nearest-neighbor interpolation and converts it to a nparray\n",
    "            images = tf.image.resize(images = np.expand_dims(images, axis = -1), size = imgShape[:-1], method='nearest').numpy()\n",
    "\n",
    "            # assigns the processed image to the inputImages array at index i\n",
    "            inputImages[i, :, :, 0] = images.squeeze()\n",
    "            \n",
    "            if self.dataType == 'train':\n",
    "                # assigns the label to the labels array at index i\n",
    "                labels[i] = self.data.iloc[idx]['cancer']\n",
    "            \n",
    "        if self.dataType == 'train':\n",
    "            return (inputImages, labels)\n",
    "        \n",
    "        else: \n",
    "            return inputImages"
   ]
  },
  {
   "cell_type": "markdown",
   "metadata": {},
   "source": [
    "<font size=4.4>\n",
    "In the cell below, we iterate over the data that are cancer positive and filter them out and then take a subset\n",
    "of the rest of the data equal in length to that of the cancer count, finally appending it to a new list.\n",
    "</font>"
   ]
  },
  {
   "cell_type": "code",
   "execution_count": 4,
   "metadata": {},
   "outputs": [
    {
     "data": {
      "text/plain": [
       "2316"
      ]
     },
     "execution_count": 4,
     "metadata": {},
     "output_type": "execute_result"
    }
   ],
   "source": [
    "trainData = pd.read_csv(\"/mnt/c/Users/vange/OneDrive - Tennessee Tech University/Desktop/Fall 23, Spring 24/4260/mammography/train.csv\")\n",
    "newTrainData = []\n",
    "\n",
    "# counts each unique cancer value\n",
    "cancerCount = trainData.cancer.value_counts()\n",
    "\n",
    "# prevents oversampling of patients with and without cancer, we use all available true cancer patients\n",
    "# and sample the rest of the dataset to get the same amount of noncancerous patients\n",
    "for i, placeholder in cancerCount.items():\n",
    "    filteredData = trainData[trainData['cancer'] == i]\n",
    "    sampledData = filteredData.sample(cancerCount[1])\n",
    "    newTrainData.append(sampledData)\n",
    "\n",
    "trainDF = pd.concat(newTrainData)\n",
    "\n",
    "# gives 2316, we have 1158 true cancer patients, so we grab 1158 false cancer patients\n",
    "len(trainDF)"
   ]
  },
  {
   "cell_type": "code",
   "execution_count": 5,
   "metadata": {},
   "outputs": [
    {
     "data": {
      "text/plain": [
       "(1852, 464)"
      ]
     },
     "execution_count": 5,
     "metadata": {},
     "output_type": "execute_result"
    }
   ],
   "source": [
    "from sklearn.model_selection import train_test_split\n",
    "\n",
    "xTrain, xVal = train_test_split(trainDF, test_size = 0.20, random_state = 1)\n",
    "len(xTrain), len(xVal)"
   ]
  },
  {
   "cell_type": "markdown",
   "metadata": {},
   "source": [
    "#### 13 was the largest batch size that did not cause memory errors, if a better GPU was aquired, a higher batch size could be used."
   ]
  },
  {
   "cell_type": "code",
   "execution_count": 10,
   "metadata": {},
   "outputs": [],
   "source": [
    "gendTrain = BatchCreator(xTrain, 1, 13)\n",
    "gendVal = BatchCreator(xVal, 1, 13)"
   ]
  },
  {
   "cell_type": "markdown",
   "metadata": {},
   "source": [
    "#### Start with 32 filters and scale by 2 each layer, except for the layer following the next each time\n",
    "#### MaxPooling2d will downsample helping reduce computations, can also help overfitting and model efficiency\n",
    "#### Dropout randomly sets 30% of input to 0 to reduce overfitting, repeat these multiple times\n",
    "#### Dense layer used to learn non-linear combinations of the features\n",
    "#### Output layer, sigmoid activation function for binary classification\n",
    "#### Using recall and precision with different thresholds to see performance at different points"
   ]
  },
  {
   "cell_type": "code",
   "execution_count": 8,
   "metadata": {},
   "outputs": [
    {
     "name": "stdout",
     "output_type": "stream",
     "text": [
      "Model: \"sequential_1\"\n",
      "_________________________________________________________________\n",
      " Layer (type)                Output Shape              Param #   \n",
      "=================================================================\n",
      " conv2d_6 (Conv2D)           (None, 252, 252, 32)      832       \n",
      "                                                                 \n",
      " conv2d_7 (Conv2D)           (None, 248, 248, 64)      51264     \n",
      "                                                                 \n",
      " max_pooling2d_3 (MaxPoolin  (None, 124, 124, 64)      0         \n",
      " g2D)                                                            \n",
      "                                                                 \n",
      " dropout_5 (Dropout)         (None, 124, 124, 64)      0         \n",
      "                                                                 \n",
      " conv2d_8 (Conv2D)           (None, 120, 120, 64)      102464    \n",
      "                                                                 \n",
      " conv2d_9 (Conv2D)           (None, 116, 116, 128)     204928    \n",
      "                                                                 \n",
      " max_pooling2d_4 (MaxPoolin  (None, 58, 58, 128)       0         \n",
      " g2D)                                                            \n",
      "                                                                 \n",
      " dropout_6 (Dropout)         (None, 58, 58, 128)       0         \n",
      "                                                                 \n",
      " conv2d_10 (Conv2D)          (None, 54, 54, 128)       409728    \n",
      "                                                                 \n",
      " conv2d_11 (Conv2D)          (None, 50, 50, 256)       819456    \n",
      "                                                                 \n",
      " max_pooling2d_5 (MaxPoolin  (None, 25, 25, 256)       0         \n",
      " g2D)                                                            \n",
      "                                                                 \n",
      " dropout_7 (Dropout)         (None, 25, 25, 256)       0         \n",
      "                                                                 \n",
      " global_max_pooling2d_1 (Gl  (None, 256)               0         \n",
      " obalMaxPooling2D)                                               \n",
      "                                                                 \n",
      " dropout_8 (Dropout)         (None, 256)               0         \n",
      "                                                                 \n",
      " dense_2 (Dense)             (None, 32)                8224      \n",
      "                                                                 \n",
      " dropout_9 (Dropout)         (None, 32)                0         \n",
      "                                                                 \n",
      " dense_3 (Dense)             (None, 1)                 33        \n",
      "                                                                 \n",
      "=================================================================\n",
      "Total params: 1596929 (6.09 MB)\n",
      "Trainable params: 1596929 (6.09 MB)\n",
      "Non-trainable params: 0 (0.00 Byte)\n",
      "_________________________________________________________________\n"
     ]
    }
   ],
   "source": [
    "imgShape = (256, 256, 1)\n",
    "model = Sequential()\n",
    "\n",
    "model.add(Input(shape = imgShape))\n",
    "\n",
    "model.add(Conv2D(32, (5, 5), activation = \"relu\"))\n",
    "model.add(Conv2D(64, (5, 5), activation = \"relu\"))\n",
    "model.add(MaxPooling2D())\n",
    "model.add(Dropout(0.3))\n",
    "\n",
    "model.add(Conv2D(64, (5, 5), activation = \"relu\"))\n",
    "model.add(Conv2D(128, (5, 5), activation = \"relu\"))\n",
    "model.add(MaxPooling2D())\n",
    "model.add(Dropout(0.3))\n",
    "\n",
    "model.add(Conv2D(128, (5, 5), activation = \"relu\"))\n",
    "model.add(Conv2D(256, (5, 5), activation = \"relu\"))\n",
    "model.add(MaxPooling2D())\n",
    "model.add(Dropout(0.3))\n",
    "\n",
    "model.add(GlobalMaxPooling2D())\n",
    "model.add(Dropout(0.3))\n",
    "\n",
    "model.add(Dense(32, activation = 'relu'))\n",
    "model.add(Dropout(0.3))\n",
    "\n",
    "model.add(Dense(1, activation = 'sigmoid'))\n",
    "\n",
    "model.compile(optimizer = Adam(learning_rate = 0.0005), loss = 'binary_crossentropy',\n",
    "              metrics = [tf.keras.metrics.BinaryAccuracy(threshold = 0.5),\n",
    "                         tf.keras.metrics.Recall(thresholds = [0.4, 0.5, 0.6]),\n",
    "                         tf.keras.metrics.Precision(thresholds = [0.4, 0.5, 0.6])])\n",
    "\n",
    "model.summary()"
   ]
  },
  {
   "cell_type": "markdown",
   "metadata": {},
   "source": [
    "#### Below we fit the model on 14 epochs, this was done since it takes about 9ish hours, being the max we were willing to train for for the final model.\n",
    "\n",
    "#### This however may have been quite a waste as we can see a flatline in performace from epoch 7 - 12, so we could have cut back on the epoch numbers, however this was the first and only time that training was done on an epoch higher than 4 simply due to time and hardware constrains.\n",
    "\n",
    "#### Future implementations could be a more layered model with a different learning rate since there was a flatline. This may fix that issue entirely, but we are unsure whether this is the reason of the flatline or if there is something else."
   ]
  },
  {
   "cell_type": "code",
   "execution_count": 11,
   "metadata": {},
   "outputs": [
    {
     "name": "stdout",
     "output_type": "stream",
     "text": [
      "Epoch 1/14\n",
      "143/143 [==============================] - 2322s 16s/step - loss: 0.6940 - binary_accuracy: 0.4933 - recall_1: 0.4022 - precision_1: 0.3219 - val_loss: 0.6933 - val_binary_accuracy: 0.4893 - val_recall_1: 0.3333 - val_precision_1: 0.1702\n",
      "Epoch 2/14\n",
      "143/143 [==============================] - 2205s 15s/step - loss: 0.6928 - binary_accuracy: 0.5186 - recall_1: 0.4389 - precision_1: 0.5322 - val_loss: 0.6935 - val_binary_accuracy: 0.4893 - val_recall_1: 0.3333 - val_precision_1: 0.1702\n",
      "Epoch 3/14\n",
      "143/143 [==============================] - 2027s 14s/step - loss: 0.6935 - binary_accuracy: 0.5024 - recall_1: 0.3359 - precision_1: 0.2815 - val_loss: 0.6933 - val_binary_accuracy: 0.4893 - val_recall_1: 0.3333 - val_precision_1: 0.1702\n",
      "Epoch 4/14\n",
      "143/143 [==============================] - 2040s 14s/step - loss: 0.6944 - binary_accuracy: 0.4917 - recall_1: 0.4120 - precision_1: 0.3230 - val_loss: 0.6932 - val_binary_accuracy: 0.4893 - val_recall_1: 0.3333 - val_precision_1: 0.1702\n",
      "Epoch 5/14\n",
      "143/143 [==============================] - 2041s 14s/step - loss: 0.6932 - binary_accuracy: 0.4922 - recall_1: 0.4197 - precision_1: 0.3231 - val_loss: 0.6932 - val_binary_accuracy: 0.4893 - val_recall_1: 0.3333 - val_precision_1: 0.1702\n",
      "Epoch 6/14\n",
      "143/143 [==============================] - 2015s 14s/step - loss: 0.6933 - binary_accuracy: 0.4949 - recall_1: 0.3975 - precision_1: 0.3225 - val_loss: 0.6932 - val_binary_accuracy: 0.4893 - val_recall_1: 0.3333 - val_precision_1: 0.1702\n",
      "Epoch 7/14\n",
      "143/143 [==============================] - 2020s 14s/step - loss: 0.6933 - binary_accuracy: 0.5056 - recall_1: 0.3337 - precision_1: 0.3315 - val_loss: 0.6933 - val_binary_accuracy: 0.4893 - val_recall_1: 0.3333 - val_precision_1: 0.1702\n",
      "Epoch 8/14\n",
      "143/143 [==============================] - 2056s 14s/step - loss: 0.6932 - binary_accuracy: 0.5056 - recall_1: 0.3333 - precision_1: 0.1648 - val_loss: 0.6933 - val_binary_accuracy: 0.4893 - val_recall_1: 0.3333 - val_precision_1: 0.1702\n",
      "Epoch 9/14\n",
      "143/143 [==============================] - 2029s 14s/step - loss: 0.6931 - binary_accuracy: 0.5056 - recall_1: 0.3333 - precision_1: 0.1648 - val_loss: 0.6933 - val_binary_accuracy: 0.4893 - val_recall_1: 0.3333 - val_precision_1: 0.1702\n",
      "Epoch 10/14\n",
      "143/143 [==============================] - 2049s 14s/step - loss: 0.6931 - binary_accuracy: 0.5056 - recall_1: 0.3333 - precision_1: 0.1648 - val_loss: 0.6933 - val_binary_accuracy: 0.4893 - val_recall_1: 0.3333 - val_precision_1: 0.1702\n",
      "Epoch 11/14\n",
      "143/143 [==============================] - 2047s 14s/step - loss: 0.6931 - binary_accuracy: 0.5056 - recall_1: 0.3333 - precision_1: 0.1648 - val_loss: 0.6934 - val_binary_accuracy: 0.4893 - val_recall_1: 0.3333 - val_precision_1: 0.1702\n",
      "Epoch 12/14\n",
      "143/143 [==============================] - 2099s 15s/step - loss: 0.6932 - binary_accuracy: 0.5056 - recall_1: 0.3333 - precision_1: 0.1648 - val_loss: 0.6934 - val_binary_accuracy: 0.4893 - val_recall_1: 0.3333 - val_precision_1: 0.1702\n",
      "Epoch 13/14\n",
      "143/143 [==============================] - 2034s 14s/step - loss: 0.6933 - binary_accuracy: 0.4949 - recall_1: 0.4015 - precision_1: 0.3230 - val_loss: 0.6932 - val_binary_accuracy: 0.4893 - val_recall_1: 0.3333 - val_precision_1: 0.1702\n",
      "Epoch 14/14\n",
      "143/143 [==============================] - 2022s 14s/step - loss: 0.6934 - binary_accuracy: 0.5003 - recall_1: 0.3732 - precision_1: 0.3242 - val_loss: 0.6935 - val_binary_accuracy: 0.4893 - val_recall_1: 0.3333 - val_precision_1: 0.1702\n"
     ]
    }
   ],
   "source": [
    "# loss = quantified value of how well the model is predicting vs the actual value, we want a low number\n",
    "# binary accuracy = percentage of correct predictions\n",
    "# recall = % of true + over all + predictions (true and false +) accuracy of the + predictions\n",
    "# precision = % of true + out of all + (true + and false -) ability of model to find all + samples\n",
    "# f1score = balance between recall and precision, we want high number\n",
    "\n",
    "\n",
    "history = model.fit(gendTrain, validation_data = gendVal, epochs = 14)"
   ]
  },
  {
   "cell_type": "markdown",
   "metadata": {},
   "source": [
    "#### Here the F1Score is calculated, the result is based on the 3 different thresholds that were passed to precision and recall in the model.\n",
    "\n",
    "#### We see an F1Score of 0.3677 which is not horrible given the weird flatline error that happened in training. \n",
    "#### If those errors were to not have occured, we would probably see an F1Score that is slightly higher, maybe a bit closer to what the accuracy score is."
   ]
  },
  {
   "cell_type": "code",
   "execution_count": 80,
   "metadata": {},
   "outputs": [
    {
     "data": {
      "text/plain": [
       "0.3677316"
      ]
     },
     "execution_count": 80,
     "metadata": {},
     "output_type": "execute_result"
    }
   ],
   "source": [
    "import numpy as np\n",
    "\n",
    "def f1Score(precision, recall):\n",
    "    # Change all NANS to 0\n",
    "    precision = np.nan_to_num(precision)\n",
    "    recall = np.nan_to_num(recall)\n",
    "    \n",
    "    # Calculate f1 score and make sure the denominator is never 0\n",
    "    denominator = precision + recall\n",
    "    f1 = np.where(denominator == 0, 0, 2 * (precision * recall))\n",
    "    \n",
    "    return np.nanmean(f1)\n",
    "\n",
    "# Loop through all epochs and calculate the f1 score values from the 3 different\n",
    "# recall and precision thresholds that we had specified in the model\n",
    "for epoch, (precision, recall) in enumerate(zip(history.history[\"precision_1\"], history.history[\"recall_1\"]), 1):\n",
    "    f1 = f1Score(precision, recall)\n",
    "\n",
    "f1"
   ]
  },
  {
   "cell_type": "markdown",
   "metadata": {},
   "source": [
    "#### In the graph below, we graph the loss vs val_loss against all the epochs and begin seeing a convergence near epoch 7."
   ]
  },
  {
   "cell_type": "code",
   "execution_count": 119,
   "metadata": {},
   "outputs": [
    {
     "data": {
      "image/png": "[encoded data removed]",
      "text/plain": [
       "<Figure size 640x480 with 1 Axes>"
      ]
     },
     "metadata": {},
     "output_type": "display_data"
    }
   ],
   "source": [
    "epochs = range(1, 15)\n",
    "\n",
    "plt.plot(epochs, history.history['loss'], 'r', label = 'Training Loss')\n",
    "plt.plot(epochs, history.history['val_loss'], 'b', label = 'Validation Loss')\n",
    "plt.legend()\n",
    "\n",
    "plt.show()"
   ]
  },
  {
   "cell_type": "markdown",
   "metadata": {},
   "source": [
    "#### However for the next plots, we see the validation error in play, being a flat line the entire time.\n",
    "#### We also all recall values performing quite weirdly, especially 0.4 and 0.6, those did not work out great.\n",
    "#### Unfortunately we forgot to plot the precision, but it was the same as recall since the values were impacted the same as recalls, if we want to plot recall, we would have to retrain the whole model."
   ]
  },
  {
   "cell_type": "code",
   "execution_count": 205,
   "metadata": {},
   "outputs": [
    {
     "data": {
      "image/png": "[encoded data removed]",
      "text/plain": [
       "<Figure size 1000x1500 with 3 Axes>"
      ]
     },
     "metadata": {},
     "output_type": "display_data"
    }
   ],
   "source": [
    "recall = np.array(history.history['recall_1'])\n",
    "valRecall = np.array(history.history['val_recall_1'])\n",
    "\n",
    "thresholds = [0.4, 0.5, 0.6]\n",
    "plt.figure(figsize=(10, 5 * 3))\n",
    "\n",
    "for i, threshold in enumerate(thresholds):\n",
    "    plt.subplot(3, 1, i + 1)\n",
    "    plt.plot(range(1, 15), recall[:, i], 'b', label='Training recall')\n",
    "    plt.plot(range(1, 15), valRecall[:, i], 'r', label='Validation recall')\n",
    "    plt.title(f'Recall threshold = {threshold}')\n",
    "    plt.legend()\n",
    "\n",
    "plt.show()\n"
   ]
  },
  {
   "cell_type": "code",
   "execution_count": 14,
   "metadata": {},
   "outputs": [
    {
     "data": {
      "text/html": [
       "<div>\n",
       "<style scoped>\n",
       "    .dataframe tbody tr th:only-of-type {\n",
       "        vertical-align: middle;\n",
       "    }\n",
       "\n",
       "    .dataframe tbody tr th {\n",
       "        vertical-align: top;\n",
       "    }\n",
       "\n",
       "    .dataframe thead th {\n",
       "        text-align: right;\n",
       "    }\n",
       "</style>\n",
       "<table border=\"1\" class=\"dataframe\">\n",
       "  <thead>\n",
       "    <tr style=\"text-align: right;\">\n",
       "      <th></th>\n",
       "      <th>site_id</th>\n",
       "      <th>patient_id</th>\n",
       "      <th>image_id</th>\n",
       "      <th>laterality</th>\n",
       "      <th>view</th>\n",
       "      <th>age</th>\n",
       "      <th>implant</th>\n",
       "      <th>machine_id</th>\n",
       "      <th>prediction_id</th>\n",
       "    </tr>\n",
       "  </thead>\n",
       "  <tbody>\n",
       "    <tr>\n",
       "      <th>0</th>\n",
       "      <td>2</td>\n",
       "      <td>10008</td>\n",
       "      <td>736471439</td>\n",
       "      <td>L</td>\n",
       "      <td>MLO</td>\n",
       "      <td>81</td>\n",
       "      <td>0</td>\n",
       "      <td>21</td>\n",
       "      <td>10008_L</td>\n",
       "    </tr>\n",
       "    <tr>\n",
       "      <th>1</th>\n",
       "      <td>2</td>\n",
       "      <td>10008</td>\n",
       "      <td>1591370361</td>\n",
       "      <td>L</td>\n",
       "      <td>CC</td>\n",
       "      <td>81</td>\n",
       "      <td>0</td>\n",
       "      <td>21</td>\n",
       "      <td>10008_L</td>\n",
       "    </tr>\n",
       "    <tr>\n",
       "      <th>2</th>\n",
       "      <td>2</td>\n",
       "      <td>10008</td>\n",
       "      <td>68070693</td>\n",
       "      <td>R</td>\n",
       "      <td>MLO</td>\n",
       "      <td>81</td>\n",
       "      <td>0</td>\n",
       "      <td>21</td>\n",
       "      <td>10008_R</td>\n",
       "    </tr>\n",
       "    <tr>\n",
       "      <th>3</th>\n",
       "      <td>2</td>\n",
       "      <td>10008</td>\n",
       "      <td>361203119</td>\n",
       "      <td>R</td>\n",
       "      <td>CC</td>\n",
       "      <td>81</td>\n",
       "      <td>0</td>\n",
       "      <td>21</td>\n",
       "      <td>10008_R</td>\n",
       "    </tr>\n",
       "  </tbody>\n",
       "</table>\n",
       "</div>"
      ],
      "text/plain": [
       "   site_id  patient_id    image_id laterality view  age  implant  machine_id  \\\n",
       "0        2       10008   736471439          L  MLO   81        0          21   \n",
       "1        2       10008  1591370361          L   CC   81        0          21   \n",
       "2        2       10008    68070693          R  MLO   81        0          21   \n",
       "3        2       10008   361203119          R   CC   81        0          21   \n",
       "\n",
       "  prediction_id  \n",
       "0       10008_L  \n",
       "1       10008_L  \n",
       "2       10008_R  \n",
       "3       10008_R  "
      ]
     },
     "execution_count": 14,
     "metadata": {},
     "output_type": "execute_result"
    }
   ],
   "source": [
    "testData = pd.read_csv(\"/mnt/c/Users/vange/OneDrive - Tennessee Tech University/Desktop/Fall 23, Spring 24/4260/mammography/test.csv\")\n",
    "testData"
   ]
  },
  {
   "cell_type": "markdown",
   "metadata": {},
   "source": [
    "#### Here we grab our test data and predict on it, a mistake here was using 13 batches, only 4 were needed with 4 different images.\n",
    "\n",
    "#### This resulted in 9 extra predicition results, but we can filter them out as we do in the next cell."
   ]
  },
  {
   "cell_type": "code",
   "execution_count": 40,
   "metadata": {},
   "outputs": [
    {
     "name": "stdout",
     "output_type": "stream",
     "text": [
      "1/1 [==============================] - 4s 4s/step\n"
     ]
    }
   ],
   "source": [
    "gendTest = BatchCreator(testData, 2, 13)\n",
    "pred = model.predict(gendTest)"
   ]
  },
  {
   "cell_type": "code",
   "execution_count": 197,
   "metadata": {},
   "outputs": [
    {
     "data": {
      "text/plain": [
       "[array([0.49373135], dtype=float32),\n",
       " array([0.49372953], dtype=float32),\n",
       " array([0.49372], dtype=float32),\n",
       " array([0.49371466], dtype=float32)]"
      ]
     },
     "execution_count": 197,
     "metadata": {},
     "output_type": "execute_result"
    }
   ],
   "source": [
    "# Here we can see the 4 prediction, since I forgot to do a batch size of 4, there are\n",
    "# a bunch of random predictions, 13 in total, however we need only the first 4 since\n",
    "# those are the predictions that coorespond to the 4 images\n",
    "\n",
    "sorted(pred, reverse = True)[:4]"
   ]
  },
  {
   "cell_type": "markdown",
   "metadata": {},
   "source": [
    "#### Here we append the predicted values to the test data, we see a predicted value of 0.49 for both left and right breasts.\n",
    "\n",
    "#### This turned out to be a rather decent model despite the weird validation data error and a few precision and recall values being messed up.\n",
    "#### Those of course do not impact the model's performance for if it learns, it learns, but when wanting to look at the metrics, it makes it harder."
   ]
  },
  {
   "cell_type": "code",
   "execution_count": 103,
   "metadata": {},
   "outputs": [
    {
     "data": {
      "text/html": [
       "<div>\n",
       "<style scoped>\n",
       "    .dataframe tbody tr th:only-of-type {\n",
       "        vertical-align: middle;\n",
       "    }\n",
       "\n",
       "    .dataframe tbody tr th {\n",
       "        vertical-align: top;\n",
       "    }\n",
       "\n",
       "    .dataframe thead th {\n",
       "        text-align: right;\n",
       "    }\n",
       "</style>\n",
       "<table border=\"1\" class=\"dataframe\">\n",
       "  <thead>\n",
       "    <tr style=\"text-align: right;\">\n",
       "      <th></th>\n",
       "      <th>site_id</th>\n",
       "      <th>patient_id</th>\n",
       "      <th>image_id</th>\n",
       "      <th>laterality</th>\n",
       "      <th>view</th>\n",
       "      <th>age</th>\n",
       "      <th>implant</th>\n",
       "      <th>machine_id</th>\n",
       "      <th>prediction_id</th>\n",
       "      <th>cancer</th>\n",
       "    </tr>\n",
       "  </thead>\n",
       "  <tbody>\n",
       "    <tr>\n",
       "      <th>0</th>\n",
       "      <td>2</td>\n",
       "      <td>10008</td>\n",
       "      <td>736471439</td>\n",
       "      <td>L</td>\n",
       "      <td>MLO</td>\n",
       "      <td>81</td>\n",
       "      <td>0</td>\n",
       "      <td>21</td>\n",
       "      <td>10008_L</td>\n",
       "      <td>0.493731</td>\n",
       "    </tr>\n",
       "    <tr>\n",
       "      <th>1</th>\n",
       "      <td>2</td>\n",
       "      <td>10008</td>\n",
       "      <td>1591370361</td>\n",
       "      <td>L</td>\n",
       "      <td>CC</td>\n",
       "      <td>81</td>\n",
       "      <td>0</td>\n",
       "      <td>21</td>\n",
       "      <td>10008_L</td>\n",
       "      <td>0.493730</td>\n",
       "    </tr>\n",
       "    <tr>\n",
       "      <th>2</th>\n",
       "      <td>2</td>\n",
       "      <td>10008</td>\n",
       "      <td>68070693</td>\n",
       "      <td>R</td>\n",
       "      <td>MLO</td>\n",
       "      <td>81</td>\n",
       "      <td>0</td>\n",
       "      <td>21</td>\n",
       "      <td>10008_R</td>\n",
       "      <td>0.493720</td>\n",
       "    </tr>\n",
       "    <tr>\n",
       "      <th>3</th>\n",
       "      <td>2</td>\n",
       "      <td>10008</td>\n",
       "      <td>361203119</td>\n",
       "      <td>R</td>\n",
       "      <td>CC</td>\n",
       "      <td>81</td>\n",
       "      <td>0</td>\n",
       "      <td>21</td>\n",
       "      <td>10008_R</td>\n",
       "      <td>0.493715</td>\n",
       "    </tr>\n",
       "  </tbody>\n",
       "</table>\n",
       "</div>"
      ],
      "text/plain": [
       "   site_id  patient_id    image_id laterality view  age  implant  machine_id  \\\n",
       "0        2       10008   736471439          L  MLO   81        0          21   \n",
       "1        2       10008  1591370361          L   CC   81        0          21   \n",
       "2        2       10008    68070693          R  MLO   81        0          21   \n",
       "3        2       10008   361203119          R   CC   81        0          21   \n",
       "\n",
       "  prediction_id    cancer  \n",
       "0       10008_L  0.493731  \n",
       "1       10008_L  0.493730  \n",
       "2       10008_R  0.493720  \n",
       "3       10008_R  0.493715  "
      ]
     },
     "execution_count": 103,
     "metadata": {},
     "output_type": "execute_result"
    }
   ],
   "source": [
    "# Assigning the prediction values to a cancer column on the test data\n",
    "\n",
    "testData['cancer'] = pred[:testData.shape[0]]\n",
    "testData"
   ]
  },
  {
   "cell_type": "markdown",
   "metadata": {},
   "source": [
    "#### Finally we create the aggregated dataframe, print the results, and save the model incase we wish to use it later."
   ]
  },
  {
   "cell_type": "code",
   "execution_count": 201,
   "metadata": {},
   "outputs": [
    {
     "data": {
      "text/html": [
       "<div>\n",
       "<style scoped>\n",
       "    .dataframe tbody tr th:only-of-type {\n",
       "        vertical-align: middle;\n",
       "    }\n",
       "\n",
       "    .dataframe tbody tr th {\n",
       "        vertical-align: top;\n",
       "    }\n",
       "\n",
       "    .dataframe thead th {\n",
       "        text-align: right;\n",
       "    }\n",
       "</style>\n",
       "<table border=\"1\" class=\"dataframe\">\n",
       "  <thead>\n",
       "    <tr style=\"text-align: right;\">\n",
       "      <th></th>\n",
       "      <th>prediction_id</th>\n",
       "      <th>cancer</th>\n",
       "    </tr>\n",
       "  </thead>\n",
       "  <tbody>\n",
       "    <tr>\n",
       "      <th>0</th>\n",
       "      <td>10008_L</td>\n",
       "      <td>0.493731</td>\n",
       "    </tr>\n",
       "    <tr>\n",
       "      <th>1</th>\n",
       "      <td>10008_R</td>\n",
       "      <td>0.493720</td>\n",
       "    </tr>\n",
       "  </tbody>\n",
       "</table>\n",
       "</div>"
      ],
      "text/plain": [
       "  prediction_id    cancer\n",
       "0       10008_L  0.493731\n",
       "1       10008_R  0.493720"
      ]
     },
     "execution_count": 201,
     "metadata": {},
     "output_type": "execute_result"
    }
   ],
   "source": [
    "# The left breast according to the model has a 0.49% chance of being cancerous,\n",
    "# only a ten-thousandth more than the right breasts chance of being cancerous.\n",
    "\n",
    "final = testData.groupby('prediction_id')['cancer'].agg('max').reset_index()\n",
    "final"
   ]
  },
  {
   "cell_type": "code",
   "execution_count": 15,
   "metadata": {},
   "outputs": [],
   "source": [
    "model.save('model.keras')"
   ]
  },
  {
   "cell_type": "code",
   "execution_count": 36,
   "metadata": {},
   "outputs": [],
   "source": [
    "model = keras.models.load_model('model.keras')"
   ]
  }
 ],
 "metadata": {
  "kernelspec": {
   "display_name": "Python 3 (ipykernel)",
   "language": "python",
   "name": "python3"
  },
  "language_info": {
   "codemirror_mode": {
    "name": "ipython",
    "version": 3
   },
   "file_extension": ".py",
   "mimetype": "text/x-python",
   "name": "python",
   "nbconvert_exporter": "python",
   "pygments_lexer": "ipython3",
   "version": "3.10.12"
  }
 },
 "nbformat": 4,
 "nbformat_minor": 4
}
